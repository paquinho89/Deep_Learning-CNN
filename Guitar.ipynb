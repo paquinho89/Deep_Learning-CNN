{
  "nbformat": 4,
  "nbformat_minor": 0,
  "metadata": {
    "colab": {
      "name": "Guitar.ipynb",
      "version": "0.3.2",
      "provenance": [],
      "collapsed_sections": [],
      "toc_visible": true
    },
    "kernelspec": {
      "name": "python3",
      "display_name": "Python 3"
    },
    "accelerator": "GPU"
  },
  "cells": [
    {
      "metadata": {
        "id": "-an8Hr5y5VIF",
        "colab_type": "text"
      },
      "cell_type": "markdown",
      "source": [
        "## Guitar?\n",
        "I would have prefer to do a project about \"bagpipe or not bagpipe\" rather than \"guitar or not guitar\". However, bagpipes are not such a popular instruments as guitars are. Therefore, I had to choose guitars because of the high number of images which are containend on ImageNet, the web used to get the data.\n",
        "\n",
        "The purpose of this project is to go into what deep learning is and create a Convultional Neural Networks in order to create a model and recognize if this istrument is present (or not) in a picture.\n",
        "\n",
        "The project is divided in 4 main blocks:\n",
        "\n",
        "1_Getting the necessary data to go ahaed with the model: This part is ignored in most of the tutorials, but it is one of the most difficult parts of any project. Usually, data scientiest which have just started work in this field, have never faced the problems of getting the data. In real word the data is not clean and there is a lot of work to do before starting to build the model\n",
        "\n",
        "2_Preparing the data. In this part of the project: The variables are declared as well as image augmentation techniques are used in order to increase the collected data\n",
        "\n",
        "3_Creating the model:\n",
        "\n",
        "4_Testing the performance of the model: Cofussion matrix, recal, accuracy, ROC curve...\n",
        "\n",
        "NOTE: Due the the high computational resources that this Convultional Neural Network requires, I recommend run the code with google coolab, using the GPU.\n",
        "\n",
        "Contact information:                          \n",
        "Name: Francisco Álvarez González                                       \n",
        "E-mail: paquinho89@hotmail.com\n",
        "\n",
        "Note: After having done a master in Data Science, I am doing some projects to have a bigger portfolio and get some employment opportunities."
      ]
    },
    {
      "metadata": {
        "id": "MyFKybx-4mU1",
        "colab_type": "code",
        "colab": {
          "base_uri": "https://localhost:8080/",
          "height": 34
        },
        "outputId": "59577032-0d9e-4348-b473-8e3bc64f3e7f"
      },
      "cell_type": "code",
      "source": [
        "#The necessary libraries and packages are imported.\n",
        "import keras\n",
        "from keras.layers import Dense\n",
        "from keras.models import Sequential\n",
        "from keras.preprocessing.image import ImageDataGenerator\n",
        "import os\n",
        "from keras.optimizers import Adam\n",
        "from sklearn.metrics import confusion_matrix\n",
        "import seaborn as sns\n",
        "from keras import backend as K\n",
        "from keras.layers import Conv2D, MaxPooling2D, InputLayer, Flatten, Dense\n",
        "from keras import optimizers\n",
        "from keras import losses\n",
        "from keras import regularizers\n",
        "import itertools\n",
        "import matplotlib.pyplot as plt\n",
        "import numpy as np\n",
        "from sklearn.metrics import classification_report\n",
        "import image\n",
        "import matplotlib.pyplot as plt\n",
        "from IPython.display import Image, display\n",
        "import requests\n",
        "import os\n",
        "from PIL import Image"
      ],
      "execution_count": 4,
      "outputs": [
        {
          "output_type": "stream",
          "text": [
            "Using TensorFlow backend.\n"
          ],
          "name": "stderr"
        }
      ]
    },
    {
      "metadata": {
        "id": "u6TdTgdHnr9E",
        "colab_type": "text"
      },
      "cell_type": "markdown",
      "source": [
        "## 1 Getting the images.\n",
        "To get the images I used one of the biggest repositories of tagged images as it is ImageNet. For more information about this website visit:\n",
        "http://www.image-net.org/\n"
      ]
    },
    {
      "metadata": {
        "id": "6_O7BveI1W4x",
        "colab_type": "code",
        "outputId": "9a28588b-7a59-49a0-8de1-b636249ad318",
        "colab": {
          "base_uri": "https://localhost:8080/",
          "height": 34
        }
      },
      "cell_type": "code",
      "source": [
        "!pwd"
      ],
      "execution_count": 2,
      "outputs": [
        {
          "output_type": "stream",
          "text": [
            "/content\n"
          ],
          "name": "stdout"
        }
      ]
    },
    {
      "metadata": {
        "id": "KIdHlRvogrj3",
        "colab_type": "code",
        "outputId": "333a7aa2-0d36-4802-a469-5b853b0940bf",
        "colab": {
          "base_uri": "https://localhost:8080/",
          "height": 54
        }
      },
      "cell_type": "code",
      "source": [
        "#This is to let google colab to get access to my google Drive account.\n",
        "\n",
        "from google.colab import drive\n",
        "drive.mount('/content/gdrive')\n",
        "\n",
        "#If I go to the left of the screen, I see that the photos are in the following folder:\n",
        "#\"content/gdrive/MyDrive/bagpipe/photos...\""
      ],
      "execution_count": 11,
      "outputs": [
        {
          "output_type": "stream",
          "text": [
            "Drive already mounted at /content/gdrive; to attempt to forcibly remount, call drive.mount(\"/content/gdrive\", force_remount=True).\n"
          ],
          "name": "stdout"
        }
      ]
    },
    {
      "metadata": {
        "id": "Iuy38oDTZd2P",
        "colab_type": "text"
      },
      "cell_type": "markdown",
      "source": [
        "###Firstly, I copied in a file (url_guitars) all the links where the url images are contained, and then I went over each link getting the images."
      ]
    },
    {
      "metadata": {
        "id": "L9aEG2yZQmYF",
        "colab_type": "code",
        "colab": {}
      },
      "cell_type": "code",
      "source": [
        "url_hawaiian_guitar = 'http://www.image-net.org/api/text/imagenet.synset.geturls?wnid=n03499907'\n",
        "url_bass_guitar = 'http://www.image-net.org/api/text/imagenet.synset.geturls?wnid=n02804123'\n",
        "url_acoustic_guitar = 'http://www.image-net.org/api/text/imagenet.synset.geturls?wnid=n02676566'\n",
        "url_electric_guitar = 'http://www.image-net.org/api/text/imagenet.synset.geturls?wnid=n03272010'\n",
        "url_classical_guitar = 'http://www.image-net.org/api/text/imagenet.synset.geturls?wnid=n03035832'\n",
        "\n",
        "url_guitar = [url_bass_guitar, url_electric_guitar, url_hawaiian_guitar, url_acoustic_guitar, url_classical_guitar]\n",
        "\n",
        "for url in url_guitar:\n",
        "  r = requests.get(url)\n",
        "  #This is to get the file with the urls which contains the pictures. And another file is created and it is \n",
        "  #called photos_urls\n",
        "  with open('./gdrive/My Drive/guitar_project/url_guitars', 'ab') as f:  \n",
        "      f.write(r.content)\n",
        "  f.close()"
      ],
      "execution_count": 0,
      "outputs": []
    },
    {
      "metadata": {
        "id": "SCTw7I7bqrEC",
        "colab_type": "text"
      },
      "cell_type": "markdown",
      "source": [
        "### In the below code, the images are downloaded from the URL."
      ]
    },
    {
      "metadata": {
        "id": "8KMQDtmTbFDp",
        "colab_type": "code",
        "colab": {}
      },
      "cell_type": "code",
      "source": [
        "#This open the file which contains all the urls of the images\n",
        "photos_urls_guitar=open('./gdrive/My Drive/guitar_project/url_guitars', mode='r')\n",
        "n=1\n",
        "for url in photos_urls_guitar:\n",
        "    try:\n",
        "        #The image is get from the url\n",
        "        r=requests.get(url)\n",
        "        #a file is created in order put the image in that file\n",
        "        with open('./gdrive/My Drive/guitar_project/training_photos/guitar_photos/img_guitar_{:06d}.jpg'.format(n), 'wb') as f:\n",
        "        #The image is copied in the file which was just created\n",
        "            f.write(r.content)\n",
        "        n=n+1\n",
        "    #There are some urls which do not work because the link is broken. For thoses cases, we igner the error and we go \n",
        "    #ahead\n",
        "    except:\n",
        "      pass"
      ],
      "execution_count": 0,
      "outputs": []
    },
    {
      "metadata": {
        "id": "6HF0e27xyDTx",
        "colab_type": "code",
        "outputId": "f670d9b9-d2d0-4f69-8d99-9923caa3b717",
        "colab": {
          "base_uri": "https://localhost:8080/",
          "height": 34
        }
      },
      "cell_type": "code",
      "source": [
        "#This code is just to see how to name the files\n",
        "o=1\n",
        "\n",
        "print('pepe morteo {:06d}'.format(o))"
      ],
      "execution_count": 1,
      "outputs": [
        {
          "output_type": "stream",
          "text": [
            "pepe morteo 000001\n"
          ],
          "name": "stdout"
        }
      ]
    },
    {
      "metadata": {
        "id": "2fP9g9b8pahn",
        "colab_type": "text"
      },
      "cell_type": "markdown",
      "source": [
        "###Secondly, I created a list with the names of the downloded pictures and I tried to open the images. If it is not possible to open it, the image is deleted from the repository as the link is broken or the image is not contained in the link anymore."
      ]
    },
    {
      "metadata": {
        "id": "vimJh9e4pgVC",
        "colab_type": "code",
        "colab": {}
      },
      "cell_type": "code",
      "source": [
        "#A list is created with the names of the pictures\n",
        "list_names=os.listdir('./gdrive/My Drive/guitar_project/training_photos/guitar_photos')\n",
        "#We go over the list and if the file is not possible to be opened, it is removed as there is an error in the file.\n",
        "#In this way, we just have the files which have photos and they are correct\n",
        "for name in list_names:\n",
        "    try:\n",
        "        Image.open('./gdrive/My Drive/guitar_project/training_photos/guitar_photos/'+name)\n",
        "    except:\n",
        "        os.remove('./gdrive/My Drive/guitar_project/training_photos/guitar_photos/'+name)"
      ],
      "execution_count": 0,
      "outputs": []
    },
    {
      "metadata": {
        "id": "-RU9ptl5k-1Z",
        "colab_type": "code",
        "colab": {
          "base_uri": "https://localhost:8080/",
          "height": 34
        },
        "outputId": "b03b6077-472b-4604-e9ee-2e2e97d762df"
      },
      "cell_type": "code",
      "source": [
        "#Checking the number of pictures\n",
        "list_names=os.listdir('./gdrive/My Drive/guitar_project/training_photos/guitar_photos')\n",
        "len(list_names)"
      ],
      "execution_count": 6,
      "outputs": [
        {
          "output_type": "execute_result",
          "data": {
            "text/plain": [
              "1946"
            ]
          },
          "metadata": {
            "tags": []
          },
          "execution_count": 6
        }
      ]
    },
    {
      "metadata": {
        "id": "0_LEiYVk2G-Z",
        "colab_type": "code",
        "colab": {}
      },
      "cell_type": "code",
      "source": [
        "list_names"
      ],
      "execution_count": 0,
      "outputs": []
    },
    {
      "metadata": {
        "id": "7BSb4LkHjenV",
        "colab_type": "text"
      },
      "cell_type": "markdown",
      "source": [
        "### The photos are distribuid in 2 folders:\n",
        "### Guitar_photos // Training\n",
        "### Guitar_photos // Validation"
      ]
    },
    {
      "metadata": {
        "id": "Uwe1Xmw2yDiF",
        "colab_type": "code",
        "colab": {}
      },
      "cell_type": "code",
      "source": [
        "#The pictures are going to be distribued into 2 folders. One pictures will be for training (85%) ant the rest (15%)\n",
        "#for validation. Two new folders will be created in the photos folder: 'training_photos' and 'validation_photos'.\n",
        "\n",
        "training_photos_percentage=round(len(list_names)*0.85)\n",
        "n=1\n",
        "\n",
        "for name in list_names:\n",
        "    if n<training_photos_percentage:\n",
        "        os.rename('./gdrive/My Drive/guitar_project/training_photos/guitar_photos/'+name, './gdrive/My Drive/guitar_project/training_photos/guitar_photos/img_{:06d}.jpg'.format(n))\n",
        "        n=n+1\n",
        "    \n",
        "    else:\n",
        "        os.rename('./gdrive/My Drive/guitar_project/training_photos/guitar_photos/'+name,'./gdrive/My Drive/guitar_project/validation_photos/guitar_photos/img_{:06d}.jpg'.format(n))\n",
        "        n=n+1 "
      ],
      "execution_count": 0,
      "outputs": []
    },
    {
      "metadata": {
        "id": "bd0dcprIyaKy",
        "colab_type": "text"
      },
      "cell_type": "markdown",
      "source": [
        "## Pictures with NO guitars\n",
        "Now, we need to repeat the process with images that are no guitars. I am going to get 500 images of each followed class: fish, car, bike, motorbike, cat, city, bgpipe, office, lamp and book.\n",
        "The process to follow is the same as the one used for getting the guitar pictures. Firstly, I will get the urls of the images through ImageNet and then I will go over the links dowloading the images."
      ]
    },
    {
      "metadata": {
        "id": "VYMOgatelbhG",
        "colab_type": "text"
      },
      "cell_type": "markdown",
      "source": [
        "###Firstly, I copied in a file (url_no_guitars) all the links where the url images are contained, and then I went over each link getting the images"
      ]
    },
    {
      "metadata": {
        "id": "Mz6Y57U3uK5k",
        "colab_type": "code",
        "colab": {}
      },
      "cell_type": "code",
      "source": [
        "#Each link contains urls of fish, cars, cat and cities. \n",
        "url_fish = 'http://image-net.org/api/text/imagenet.synset.geturls?wnid=n02512938'\n",
        "url_car = 'http://image-net.org/api/text/imagenet.synset.geturls?wnid=n02960352'\n",
        "url_cat = 'http://image-net.org/api/text/imagenet.synset.geturls?wnid=n02127808'\n",
        "url_city = 'http://image-net.org/api/text/imagenet.synset.geturls?wnid=n03036244'\n",
        "url_office = 'http://image-net.org/api/text/imagenet.synset.geturls?wnid=n03841666'\n",
        "\n",
        "url_no_guitar=[url_fish, url_car, url_cat, url_city, url_office]\n",
        "\n",
        "for url in url_no_guitar:\n",
        "  r = requests.get(url)\n",
        "  with open('./gdrive/My Drive/guitar_project/url_no_guitar_delete', 'wb') as f:\n",
        "    f.write(r.content)\n",
        "  f.close()\n",
        "  photos_url_no_guitar=open('./gdrive/My Drive/guitar_project/url_no_guitar_delete', mode='rb')\n",
        "\n",
        "  n=1\n",
        "  with open('./gdrive/My Drive/guitar_project/url_no_guitar', 'ab') as f:\n",
        "      for url in photos_url_no_guitar:\n",
        "          if n<500:\n",
        "              f.write(url)\n",
        "              n=n+1\n",
        "          else:\n",
        "              break\n",
        "  os.remove('./gdrive/My Drive/guitar_project/url_no_guitar_delete')\n"
      ],
      "execution_count": 0,
      "outputs": []
    },
    {
      "metadata": {
        "id": "kF_LIFujqdMA",
        "colab_type": "text"
      },
      "cell_type": "markdown",
      "source": [
        "### In the below code, the images are downloaded from the URL."
      ]
    },
    {
      "metadata": {
        "id": "1FhHIgry66xJ",
        "colab_type": "code",
        "colab": {}
      },
      "cell_type": "code",
      "source": [
        "#This open the file which contains all the urls of the images with no_guitars\n",
        "photos_urls_no_guitar=open('./gdrive/My Drive/guitar_project/url_no_guitar', mode='r')\n",
        "n=1\n",
        "for url in photos_urls_no_guitar:\n",
        "    try:\n",
        "        #The image is get from the url\n",
        "        r=requests.get(url)\n",
        "        #a file is created in order put the image in that file\n",
        "        with open('./gdrive/My Drive/guitar_project/training_photos/no_guitar_photos/img_{:06d}.jpg'.format(n), 'wb') as f:\n",
        "        #The image is copied in the file which was just created\n",
        "            f.write(r.content)\n",
        "        n=n+1\n",
        "    #There are some urls which do not work because the link is broken. For thoses cases, we igner the error and we go \n",
        "    #ahead\n",
        "    except:\n",
        "        pass"
      ],
      "execution_count": 0,
      "outputs": []
    },
    {
      "metadata": {
        "id": "fjyZZY3RnL41",
        "colab_type": "text"
      },
      "cell_type": "markdown",
      "source": [
        "### Secondly, I created a list with the names of the downloded pictures and I tried to open the images. If it is not possible to open it, the image is deleted from the repository as the link is broken or the image is not contained in the link anymore."
      ]
    },
    {
      "metadata": {
        "id": "Xu81siqp8aAO",
        "colab_type": "code",
        "colab": {}
      },
      "cell_type": "code",
      "source": [
        "#A list is created with the names of the pictures\n",
        "list_names=os.listdir('./gdrive/My Drive/guitar_project/training_photos/no_guitar_photos')\n",
        "#We go over the list and if the file is not possible to be opened, it is removed as there is an error in the file.\n",
        "#In this way, we just have the files which have photos and they are correct\n",
        "for name in list_names:\n",
        "    try:\n",
        "        Image.open('./gdrive/My Drive/guitar_project/training_photos/no_guitar_photos/'+ name)\n",
        "    except:\n",
        "        os.remove('./gdrive/My Drive/guitar_project/training_photos/no_guitar_photos/'+ name)\n",
        "        "
      ],
      "execution_count": 0,
      "outputs": []
    },
    {
      "metadata": {
        "id": "_CqJ0xEaqB3S",
        "colab_type": "text"
      },
      "cell_type": "markdown",
      "source": [
        "### The photos are distribuid in 2 folders:\n",
        "### No_guitar_photos // Training\n",
        "### No_guitar_photos // Validation"
      ]
    },
    {
      "metadata": {
        "id": "Z_RIEv0A8heN",
        "colab_type": "code",
        "colab": {}
      },
      "cell_type": "code",
      "source": [
        "#The pictures are going to be distribued into 2 folders. One pictures will be for training (85%) ant the rest (15%)\n",
        "#for validation. Two new folders will be created in the photos folder: 'training_photos' and 'validation_photos'.\n",
        "list_names=os.listdir('./gdrive/My Drive/guitar_project/training_photos/no_guitar_photos')\n",
        "training_photos_percentage=round(len(list_names)*0.85)\n",
        "n=1\n",
        "\n",
        "for name in list_names:\n",
        "    if n<training_photos_percentage:\n",
        "        os.rename('./gdrive/My Drive/guitar_project/training_photos/no_guitar_photos/'+name,'./gdrive/My Drive/guitar_project/training_photos/no_guitar_photos/no_guitar_img_{:06d}.jpg'.format(n))\n",
        "        n=n+1\n",
        "    \n",
        "    else:\n",
        "        os.rename('./gdrive/My Drive/guitar_project/training_photos/no_guitar_photos/'+name,'./gdrive/My Drive/guitar_project/validation_photos/no_guitar_photos/no_guitar_img_{:06d}.jpg'.format(n))\n",
        "        n=n+1 "
      ],
      "execution_count": 0,
      "outputs": []
    },
    {
      "metadata": {
        "id": "EOkEtjhmB3nK",
        "colab_type": "text"
      },
      "cell_type": "markdown",
      "source": [
        "## 2 Preparing the data"
      ]
    },
    {
      "metadata": {
        "id": "z5SPpvxlzRAF",
        "colab_type": "code",
        "colab": {}
      },
      "cell_type": "code",
      "source": [
        "#Declaring the variables.\n",
        "base_dir = './gdrive/My Drive/guitar_project/'\n",
        "train_dir = os.path.join(base_dir, 'training_photos')\n",
        "validation_dir = os.path.join(base_dir, 'validation_photos')\n",
        "img_rows = 224\n",
        "img_cols = 224\n",
        "epochs = 10\n",
        "batch_size = 256\n",
        "num_of_train_samples = 500\n",
        "num_of_test_samples = 310"
      ],
      "execution_count": 0,
      "outputs": []
    },
    {
      "metadata": {
        "id": "uU_NxeYd2v4p",
        "colab_type": "code",
        "colab": {
          "base_uri": "https://localhost:8080/",
          "height": 34
        },
        "outputId": "9cf708f3-f258-4bd2-dae0-c093e5cba1b0"
      },
      "cell_type": "code",
      "source": [
        "num_of_train_samples // batch_size"
      ],
      "execution_count": 6,
      "outputs": [
        {
          "output_type": "execute_result",
          "data": {
            "text/plain": [
              "1"
            ]
          },
          "metadata": {
            "tags": []
          },
          "execution_count": 6
        }
      ]
    },
    {
      "metadata": {
        "id": "MnO2Gq1Krlz6",
        "colab_type": "text"
      },
      "cell_type": "markdown",
      "source": [
        "Chequea este link a ver se tirando por eiqui poodes resolvelo\n",
        "\n",
        "https://stackoverflow.com/questions/52960555/my-cnn-model-predicts-only-the-first-class-no-matter-what-image-i-put"
      ]
    },
    {
      "metadata": {
        "id": "nxvdpJL5_qg7",
        "colab_type": "text"
      },
      "cell_type": "markdown",
      "source": [
        "### Image Augmentation Techniques:\n",
        "Image Augmentations techniques are methods of artificially increasing the variations of images in our data-set by using horizontal/vertical flips, rotations, variations in brightness of images, horizontal/vertical shifts etc.\n",
        "Therefore, due the low number of pictures recolected, these techniques are going to be used in the project.\n",
        "\n",
        "To know more about Image Augmentation, take a look to the below link:\n",
        "https://medium.com/@arindambaidya168/https-medium-com-arindambaidya168-using-keras-imagedatagenerator-b94a87cdefad\n"
      ]
    },
    {
      "metadata": {
        "id": "kDR0gm6Rda33",
        "colab_type": "code",
        "outputId": "677064d5-595e-4373-fc61-7d768d2e0407",
        "colab": {
          "base_uri": "https://localhost:8080/",
          "height": 51
        }
      },
      "cell_type": "code",
      "source": [
        "#Rotating and rescaling the images in the photos for training and he photos for testing.\n",
        "train_datagen = ImageDataGenerator(rescale=1 / 255, rotation_range=20)\n",
        "test_datagen = ImageDataGenerator(rescale=1 / 255, rotation_range=20)\n",
        "\n",
        "\n",
        "\n",
        "#The ImageDataGenerator class has three methods flow(), flow_from_directory() and \n",
        "#flow_from_dataframe() to read the images from a big numpy array and folders containing images.\n",
        "#The target_size is the size of your input images, every image will be resized to this size.\n",
        "#For more information see the below link:\n",
        "#https://medium.com/@vijayabhaskar96/tutorial-image-classification-with-keras-flow-from-directory-and-generators-95f75ebe5720\n",
        "train_generator = train_datagen.flow_from_directory(train_dir, \n",
        "                                                    target_size=(img_rows, img_cols),\n",
        "                                                    batch_size=batch_size,\n",
        "                                                    color_mode=\"rgb\",\n",
        "                                                    class_mode='binary',\n",
        "                                                    shuffle=True,\n",
        "                                                    seed=42)\n",
        "\n",
        "validation_generator = test_datagen.flow_from_directory(validation_dir,\n",
        "                                                  target_size=(img_rows, img_cols),\n",
        "                                                  batch_size=batch_size,\n",
        "                                                  color_mode=\"rgb\",\n",
        "                                                  class_mode='binary',\n",
        "                                                  shuffle=True,\n",
        "                                                  seed=42)\n",
        "\n"
      ],
      "execution_count": 12,
      "outputs": [
        {
          "output_type": "stream",
          "text": [
            "Found 2963 images belonging to 2 classes.\n",
            "Found 492 images belonging to 2 classes.\n"
          ],
          "name": "stdout"
        }
      ]
    },
    {
      "metadata": {
        "id": "lZLumlZsB_C5",
        "colab_type": "text"
      },
      "cell_type": "markdown",
      "source": [
        "## 3 Creating the model"
      ]
    },
    {
      "metadata": {
        "id": "QZ1SWhUjDEcm",
        "colab_type": "text"
      },
      "cell_type": "markdown",
      "source": [
        "### KERAS. \n",
        "In order to create the model, one of the most important libraries to create high-level neural networks is going to be used.\n",
        "For more information related to this library see the below link:\n",
        "https://keras.io/\n",
        "\n",
        "The following steps are going to be followed to create the model:  \n",
        "1_Decide on the architecture of the network (number of layers, type of each layer, size of each layer)  \n",
        "2_Decide on the activation functions on each layer  \n",
        "3_Decide on the parameters related to the optimization process (e.g. learning rate)  \n",
        "4_Decide on the loss function that we will use  \n",
        "5_Decide on the metrics that we will use to evaluate the performance of the model  \n",
        "6_Decide on the training parameters and train the model (number of epochs, batch size...)\n"
      ]
    },
    {
      "metadata": {
        "id": "U7K7Louz5ElB",
        "colab_type": "code",
        "outputId": "b277aa6b-f418-4f39-cf63-ff995f05f16b",
        "colab": {
          "base_uri": "https://localhost:8080/",
          "height": 442
        }
      },
      "cell_type": "code",
      "source": [
        "from keras.layers.normalization import BatchNormalization\n",
        "\n",
        "#The core data structure of Keras is a model, a way to organize layers. The simplest type of model is the Sequential model, \n",
        "#a linear stack of layers.\n",
        "#The simplest model is created.\n",
        "guitar_model= keras.Sequential()\n",
        "\n",
        "##1_Decide on the architecture of the network (number of layers, type of each layer, size of each layer)\n",
        "##2_Decide on the activation functions on each layer\n",
        "#Stacking layers is as easy as .add(). Therefore, the layers are going to be added.\n",
        "\n",
        "#The first is the input layer. This layer is 'Conv2D' type layer, with 32 nodes in the input layer.\n",
        "#The first layer needs an input shape. The input shape specifies the number of rows and columns in the input. \n",
        "#If there is nothing after the comma which indicates the rows, there can be any amount of rows. The 3 indicated the of chanel colors in the images(Red,Green,Blue)\n",
        "#‘Activation’ is the activation function for the layer. An activation function allows models to take\n",
        "#into account nonlinear relationships. For example, if you are predicting diabetes in patients, \n",
        "#going from age 10 to 11 is different than going from age 60–61. There are different types for the acivation function.\n",
        "#\"Relu\" is the most famous one.\n",
        "#32 is the number of filters\n",
        "#(3,3) is the size f the filter (in some tutorials you will see kernel, but it is the same)\n",
        "#Stride specifies how much we move the convolution filter at each step. By default the value is 1\n",
        "guitar_model.add(Conv2D(32,(3, 3), strides=1, activation='relu', input_shape=(img_rows, img_cols, 3)))\n",
        "guitar_model.add(BatchNormalization())\n",
        "#Second layer\n",
        "#After a convolution operation we usually perform pooling to reduce the dimensionality. \n",
        "#This enables us to reduce the number of parameters, which both shortens the training time and combats overfitting.\n",
        "#The most common type of pooling is max pooling which just takes the max value in the pooling window. Contrary to the convolution operation, pooling has no parameters.\n",
        "#It slides a window over its input, and simply takes the max value in the window. Similar to a convolution, we specify the window size and stride.\n",
        "guitar_model.add(MaxPooling2D(pool_size=(2, 2)))\n",
        "#Third layer\n",
        "guitar_model.add(Conv2D(32, (3, 3), activation='relu'))\n",
        "guitar_model.add(BatchNormalization())\n",
        "#Fourth layer\n",
        "guitar_model.add(MaxPooling2D(pool_size=(2,2)))\n",
        "#Remember that the output of both convolution and pooling layers are 3D volumes, but a fully connected layer expects a 1D vector of numbers. \n",
        "#So we flatten the output of the final pooling layer to a vector and that becomes the input to the fully connected layer (I mean, dense layers). \n",
        "#Flattening is simply arranging the 3D volume of numbers into a 1D vector, nothing fancy happens here.\n",
        "#This is to flatten the matrix, transforming the matrix in vectors placing columns under other columns. It is a technique commonly used.\n",
        "guitar_model.add(Flatten())\n",
        "##‘Dense’ is the layer type. Dense is a standard layer type that works for most \n",
        "#cases. In a dense layer, all nodes in the previous layer connect to the nodes in the current layer.\n",
        "#We have 64 nodes in this layer. This number can also be in the \n",
        "#hundreds or thousands. Increasing the number of nodes in each layer increases model capacity.\n",
        "guitar_model.add(Dense(64, activation='relu'))\n",
        "#The last layer is the output layer. It only has one node, which is for our prediction.\n",
        "#The last layer has to have as activation function a \"sigmoide\" with 1 node, and the type of the layer has to be \"Dense\" type.\n",
        "guitar_model.add(Dense(1, activation='sigmoid'))\n",
        "\n",
        "guitar_model.summary()\n",
        "\n",
        "#https://towardsdatascience.com/applied-deep-learning-part-4-convolutional-neural-networks-584bc134c1e2"
      ],
      "execution_count": 0,
      "outputs": [
        {
          "output_type": "stream",
          "text": [
            "_________________________________________________________________\n",
            "Layer (type)                 Output Shape              Param #   \n",
            "=================================================================\n",
            "conv2d_15 (Conv2D)           (None, 148, 148, 32)      896       \n",
            "_________________________________________________________________\n",
            "batch_normalization_3 (Batch (None, 148, 148, 32)      128       \n",
            "_________________________________________________________________\n",
            "max_pooling2d_13 (MaxPooling (None, 74, 74, 32)        0         \n",
            "_________________________________________________________________\n",
            "conv2d_16 (Conv2D)           (None, 72, 72, 32)        9248      \n",
            "_________________________________________________________________\n",
            "batch_normalization_4 (Batch (None, 72, 72, 32)        128       \n",
            "_________________________________________________________________\n",
            "max_pooling2d_14 (MaxPooling (None, 36, 36, 32)        0         \n",
            "_________________________________________________________________\n",
            "flatten_7 (Flatten)          (None, 41472)             0         \n",
            "_________________________________________________________________\n",
            "dense_13 (Dense)             (None, 64)                2654272   \n",
            "_________________________________________________________________\n",
            "dense_14 (Dense)             (None, 1)                 65        \n",
            "=================================================================\n",
            "Total params: 2,664,737\n",
            "Trainable params: 2,664,609\n",
            "Non-trainable params: 128\n",
            "_________________________________________________________________\n"
          ],
          "name": "stdout"
        }
      ]
    },
    {
      "metadata": {
        "id": "XT070haDxBg9",
        "colab_type": "code",
        "colab": {}
      },
      "cell_type": "code",
      "source": [
        "##3_Decide on the parameters related to the optimization process (e.g. learning rate)\n",
        "##Compilation the model\n",
        "#Next, we need to compile our model. Compiling the model takes two parameters: optimizer and loss.\n",
        "\n",
        "#The optimizer controls the learning rate. We will be using ‘Adam’ as our optmizer. \n",
        "#The learning rate determines how fast the optimal weights for the model are calculated.\n",
        "#A smaller learning rate may lead to more accurate weights (up to a certain point), \n",
        "#but the time it takes to compute the weights will be longer.\n",
        "\n",
        "##4_Decide on the loss function that we will use\n",
        "#For our loss function, we will use ‘binary_crossentropy’. \n",
        "\n",
        "##5_Decide on the metrics that we will use to evaluate the performance of the model\n",
        "#To make things even easier to interpret, we will use the ‘accuracy’ metric to see the accuracy \n",
        "#score on the validation set at the end of each epoch.\n",
        "guitar_model.compile(loss='binary_crossentropy',\n",
        "                     optimizer=Adam(lr=1e-3),\n",
        "                     metrics=['acc'])\n"
      ],
      "execution_count": 0,
      "outputs": []
    },
    {
      "metadata": {
        "id": "sAJfylxi4qdA",
        "colab_type": "code",
        "outputId": "6625136b-cfb8-4454-d113-fd8632826dd4",
        "colab": {
          "base_uri": "https://localhost:8080/",
          "height": 34
        }
      },
      "cell_type": "code",
      "source": [
        "num_of_test_samples // batch_size"
      ],
      "execution_count": 0,
      "outputs": [
        {
          "output_type": "execute_result",
          "data": {
            "text/plain": [
              "1"
            ]
          },
          "metadata": {
            "tags": []
          },
          "execution_count": 29
        }
      ]
    },
    {
      "metadata": {
        "id": "p8_0v1D6cv09",
        "colab_type": "code",
        "outputId": "dfd89cff-08b9-4832-8245-0102f0ff94c9",
        "colab": {
          "base_uri": "https://localhost:8080/",
          "height": 231
        }
      },
      "cell_type": "code",
      "source": [
        "##6_Decide on the training parameters and train the model (number of epochs, batch size...)\n",
        "\n",
        "#The number of epochs is the number of times the model will cycle through the data. The more epochs we run, the more the model will improve, up to a certain point.\n",
        "#After that point, the model will stop improving during each epoch.\n",
        "#In addition, the more epochs, the longer the model will take to run.\n",
        "\n",
        "#Note the \"//\" is divided getting the coefficient without remainder\n",
        "\n",
        "guitar_model_fitted =guitar_model.fit_generator(train_generator,\n",
        "                                         steps_per_epoch=num_of_train_samples // batch_size,\n",
        "                                         epochs=epochs,\n",
        "                                         validation_data=validation_generator,\n",
        "                                         validation_steps=num_of_test_samples // batch_size)\n",
        "#Keras saves models in the .h5 format.\n",
        "#In case, h5py is not install, run the following code.\n",
        "# pip3 install h5py\n",
        "guitar_model.save('guitar_model_1.h5')\n",
        "\n",
        "#How do you know if your model is underfitting? Your model is underfitting if \n",
        "#the accuracy on the validation set is higher than the accuracy on the training set.\n"
      ],
      "execution_count": 0,
      "outputs": [
        {
          "output_type": "error",
          "ename": "NameError",
          "evalue": "ignored",
          "traceback": [
            "\u001b[0;31m---------------------------------------------------------------------------\u001b[0m",
            "\u001b[0;31mNameError\u001b[0m                                 Traceback (most recent call last)",
            "\u001b[0;32m<ipython-input-1-e56dfaf6f08b>\u001b[0m in \u001b[0;36m<module>\u001b[0;34m()\u001b[0m\n\u001b[1;32m      1\u001b[0m \u001b[0;34m\u001b[0m\u001b[0m\n\u001b[0;32m----> 2\u001b[0;31m guitar_model_fitted =guitar_model.fit_generator(train_generator,\n\u001b[0m\u001b[1;32m      3\u001b[0m                                          \u001b[0msteps_per_epoch\u001b[0m\u001b[0;34m=\u001b[0m\u001b[0mnum_of_train_samples\u001b[0m \u001b[0;34m//\u001b[0m \u001b[0mbatch_size\u001b[0m\u001b[0;34m,\u001b[0m\u001b[0;34m\u001b[0m\u001b[0;34m\u001b[0m\u001b[0m\n\u001b[1;32m      4\u001b[0m                                          \u001b[0mepochs\u001b[0m\u001b[0;34m=\u001b[0m\u001b[0mepochs\u001b[0m\u001b[0;34m,\u001b[0m\u001b[0;34m\u001b[0m\u001b[0;34m\u001b[0m\u001b[0m\n\u001b[1;32m      5\u001b[0m                                          \u001b[0mvalidation_data\u001b[0m\u001b[0;34m=\u001b[0m\u001b[0mvalidation_generator\u001b[0m\u001b[0;34m,\u001b[0m\u001b[0;34m\u001b[0m\u001b[0;34m\u001b[0m\u001b[0m\n",
            "\u001b[0;31mNameError\u001b[0m: name 'guitar_model' is not defined"
          ]
        }
      ]
    },
    {
      "metadata": {
        "id": "EnqUqXUQScBl",
        "colab_type": "text"
      },
      "cell_type": "markdown",
      "source": [
        "# Evaluating the performance of our model"
      ]
    },
    {
      "metadata": {
        "id": "zMGoNg1rcGJj",
        "colab_type": "text"
      },
      "cell_type": "markdown",
      "source": [
        "###Plots of the accuracy, loss, val_accuracy and val_loss for training and validation"
      ]
    },
    {
      "metadata": {
        "id": "ap2ain90ghh8",
        "colab_type": "text"
      },
      "cell_type": "markdown",
      "source": [
        "Overfitting if: training loss >> validation loss      \n",
        "Underfitting if: training loss << validation loss"
      ]
    },
    {
      "metadata": {
        "id": "bh_mz16BcA3j",
        "colab_type": "code",
        "outputId": "0f4b3649-588c-4ac4-a609-a884b43bc421",
        "colab": {
          "base_uri": "https://localhost:8080/",
          "height": 51
        }
      },
      "cell_type": "code",
      "source": [
        "test_eval=guitar_model.evaluate_generator(validation_generator, steps=10)\n",
        "print('Test loss:', test_eval[0])\n",
        "print('Test accuracy:', test_eval[1])"
      ],
      "execution_count": 0,
      "outputs": [
        {
          "output_type": "stream",
          "text": [
            "Test loss: 3.151515702115811\n",
            "Test accuracy: 0.7154471562160709\n"
          ],
          "name": "stdout"
        }
      ]
    },
    {
      "metadata": {
        "id": "Onuz4Wqcb6a6",
        "colab_type": "code",
        "outputId": "b72941ce-931d-4295-ac08-6c069bab9d25",
        "colab": {
          "base_uri": "https://localhost:8080/",
          "height": 707
        }
      },
      "cell_type": "code",
      "source": [
        "accuracy = guitar_model_fitted.history['acc']\n",
        "val_accuracy = guitar_model_fitted.history['val_acc']\n",
        "loss = guitar_model_fitted.history['loss']\n",
        "val_loss = guitar_model_fitted.history['val_loss']\n",
        "epochs = range(len(accuracy))\n",
        "plt.plot(epochs, accuracy, 'b', color='green', label='Training accuracy')\n",
        "plt.plot(epochs, val_accuracy, 'b', label='Validation accuracy')\n",
        "plt.title('Training and validation accuracy')\n",
        "plt.legend()\n",
        "plt.figure()\n",
        "plt.plot(epochs, loss, 'b', color='green', label='Training loss')\n",
        "plt.plot(epochs, val_loss, 'b', label='Validation loss')\n",
        "plt.title('Training and validation loss')\n",
        "plt.legend()\n",
        "plt.show()"
      ],
      "execution_count": 0,
      "outputs": [
        {
          "output_type": "display_data",
          "data": {
            "image/png": "[encoded data removed]",
            "text/plain": [
              "<Figure size 576x396 with 1 Axes>"
            ]
          },
          "metadata": {
            "tags": []
          }
        },
        {
          "output_type": "display_data",
          "data": {
            "image/png": "[encoded data removed]",
            "text/plain": [
              "<Figure size 576x396 with 1 Axes>"
            ]
          },
          "metadata": {
            "tags": []
          }
        }
      ]
    },
    {
      "metadata": {
        "id": "jBUujlITSejo",
        "colab_type": "text"
      },
      "cell_type": "markdown",
      "source": [
        "### confusion matrix and associated metrics (precision, recall, F-score) for this classifier."
      ]
    },
    {
      "metadata": {
        "id": "M-qKrN42m0LD",
        "colab_type": "code",
        "outputId": "65e24dd3-4096-46df-a228-c5908c33e9f5",
        "colab": {
          "base_uri": "https://localhost:8080/",
          "height": 34
        }
      },
      "cell_type": "code",
      "source": [
        "Y_pred = guitar_model.predict_generator(validation_generator, steps=2)\n",
        "#The position of the highest number in the column is got. In case we can get the maximum value in the row will need to specify 'axis=0'.\n",
        "Y_pred\n",
        "#y_pred = np.argmax(Y_pred, axis=0)\n",
        "#y_pred\n",
        "len(Y_pred)"
      ],
      "execution_count": 0,
      "outputs": [
        {
          "output_type": "execute_result",
          "data": {
            "text/plain": [
              "492"
            ]
          },
          "metadata": {
            "tags": []
          },
          "execution_count": 36
        }
      ]
    },
    {
      "metadata": {
        "id": "9avVuOF8l_om",
        "colab_type": "code",
        "outputId": "bf538648-b322-451f-e374-ae87cc7ddc31",
        "colab": {
          "base_uri": "https://localhost:8080/",
          "height": 34
        }
      },
      "cell_type": "code",
      "source": [
        "len(validation_generator.classes)"
      ],
      "execution_count": 0,
      "outputs": [
        {
          "output_type": "execute_result",
          "data": {
            "text/plain": [
              "492"
            ]
          },
          "metadata": {
            "tags": []
          },
          "execution_count": 16
        }
      ]
    },
    {
      "metadata": {
        "id": "nEE7xP6gs-7m",
        "colab_type": "text"
      },
      "cell_type": "markdown",
      "source": [
        "### Conclusion: The confussion matrix shows that the model created classified all the pictures as guitars. Therefore, the recall is 1. Note that this model is neither good nor useful."
      ]
    },
    {
      "metadata": {
        "id": "YIWXaXSqn-ea",
        "colab_type": "code",
        "outputId": "a323f586-4e2d-447b-9ea7-7096e4341780",
        "colab": {
          "base_uri": "https://localhost:8080/",
          "height": 653
        }
      },
      "cell_type": "code",
      "source": [
        "Y_pred = guitar_model.predict_generator(validation_generator, steps=2)\n",
        "#The position of the highest number in the column is got. In case we can get the maximum value in the row will need to specify 'axis=0'.\n",
        "y_pred = np.argmax(Y_pred, axis=1)\n",
        "print('Confusion Matrix')\n",
        "print(confusion_matrix(validation_generator.classes, y_pred))\n",
        "print('Classification Report')\n",
        "target_names = ['Guitar', 'Not Guitar']\n",
        "print(classification_report(validation_generator.classes, y_pred, target_names=target_names))\n",
        "\n",
        "C = confusion_matrix(validation_generator.classes, y_pred)\n",
        "ax = sns.heatmap(C, annot=True, square=True)\n",
        "ax.set_ylabel('True class')\n",
        "ax.set_xlabel('Predicted class')\n",
        "\n",
        "precision = C[0,0] / (C[0,0] + C[1,0])\n",
        "recall = C[0][0] / (C[0,0] + C[0,1])\n",
        "\n",
        "print(precision, recall)"
      ],
      "execution_count": 0,
      "outputs": [
        {
          "output_type": "stream",
          "text": [
            "Confusion Matrix\n",
            "[[306   0]\n",
            " [186   0]]\n",
            "Classification Report\n",
            "              precision    recall  f1-score   support\n",
            "\n",
            "      Guitar       0.62      1.00      0.77       306\n",
            "  Not Guitar       0.00      0.00      0.00       186\n",
            "\n",
            "   micro avg       0.62      0.62      0.62       492\n",
            "   macro avg       0.31      0.50      0.38       492\n",
            "weighted avg       0.39      0.62      0.48       492\n",
            "\n",
            "0.6219512195121951 1.0\n"
          ],
          "name": "stdout"
        },
        {
          "output_type": "stream",
          "text": [
            "/usr/local/lib/python3.6/dist-packages/sklearn/metrics/classification.py:1143: UndefinedMetricWarning: Precision and F-score are ill-defined and being set to 0.0 in labels with no predicted samples.\n",
            "  'precision', 'predicted', average, warn_for)\n"
          ],
          "name": "stderr"
        },
        {
          "output_type": "display_data",
          "data": {
            "image/png": "[encoded data removed]",
            "text/plain": [
              "<Figure size 576x396 with 2 Axes>"
            ]
          },
          "metadata": {
            "tags": []
          }
        }
      ]
    },
    {
      "metadata": {
        "id": "mDo_QCt8M4uI",
        "colab_type": "text"
      },
      "cell_type": "markdown",
      "source": [
        "###ROC curve and AUC curve"
      ]
    },
    {
      "metadata": {
        "id": "TVL89GGUWedi",
        "colab_type": "code",
        "outputId": "8eebd8b1-ab77-4c20-d375-d371d848988d",
        "colab": {
          "base_uri": "https://localhost:8080/",
          "height": 34
        }
      },
      "cell_type": "code",
      "source": [
        "train_generator.classes"
      ],
      "execution_count": 0,
      "outputs": [
        {
          "output_type": "execute_result",
          "data": {
            "text/plain": [
              "array([0, 0, 0, ..., 1, 1, 1], dtype=int32)"
            ]
          },
          "metadata": {
            "tags": []
          },
          "execution_count": 38
        }
      ]
    },
    {
      "metadata": {
        "id": "BUm3j61qXC9v",
        "colab_type": "code",
        "outputId": "4332c16b-27e2-43fa-e523-a11274ec39fb",
        "colab": {
          "base_uri": "https://localhost:8080/",
          "height": 34
        }
      },
      "cell_type": "code",
      "source": [
        "len(Y_pred)"
      ],
      "execution_count": 0,
      "outputs": [
        {
          "output_type": "execute_result",
          "data": {
            "text/plain": [
              "332"
            ]
          },
          "metadata": {
            "tags": []
          },
          "execution_count": 43
        }
      ]
    },
    {
      "metadata": {
        "id": "-08fKVpiJioq",
        "colab_type": "text"
      },
      "cell_type": "markdown",
      "source": [
        "### Conclusion ROC curve. The results from the ROC curve are not good eiher. The graph shows that the probability to hit the result is, 0,5. This means that we will get the same result if we throw a coin into the air. Therefore the model , it is the s we will have the same result and it is not worth it to use the model"
      ]
    },
    {
      "metadata": {
        "id": "-xavmLoZM8-H",
        "colab_type": "code",
        "outputId": "351b7409-a2ca-49be-dbe8-8496b2a28e18",
        "colab": {
          "base_uri": "https://localhost:8080/",
          "height": 416
        }
      },
      "cell_type": "code",
      "source": [
        "from sklearn.metrics import roc_curve\n",
        "Y_pred = guitar_model.predict_generator(validation_generator, steps=8).ravel()\n",
        "\n",
        "fpr_keras, tpr_keras, thresholds_keras = roc_curve(validation_generator.classes, Y_pred)\n",
        "\n",
        "\n",
        "from sklearn.metrics import auc\n",
        "auc_keras = auc(fpr_keras, tpr_keras)\n",
        "\n",
        "plt.plot(fpr_keras,tpr_keras)\n",
        "\n",
        "plt.plot([0, 1], [0, 1], color='navy', linestyle='--')\n",
        "plt.xlabel('False Positive Rate')\n",
        "plt.ylabel('True Positive Rate')\n",
        "plt.title('ROC Curve', size=20)\n",
        "plt.legend(loc=\"lower right\")\n",
        "print('The area under the curve is %f' %(auc_keras))"
      ],
      "execution_count": 0,
      "outputs": [
        {
          "output_type": "stream",
          "text": [
            "No handles with labels found to put in legend.\n"
          ],
          "name": "stderr"
        },
        {
          "output_type": "stream",
          "text": [
            "The area under the curve is 0.478828\n"
          ],
          "name": "stdout"
        },
        {
          "output_type": "display_data",
          "data": {
            "image/png": "[encoded data removed]",
            "text/plain": [
              "<Figure size 576x396 with 1 Axes>"
            ]
          },
          "metadata": {
            "tags": []
          }
        }
      ]
    },
    {
      "metadata": {
        "id": "1tw0IIyUZJfB",
        "colab_type": "code",
        "outputId": "211c1564-cb24-487e-9aaa-86a37cf48aee",
        "colab": {
          "base_uri": "https://localhost:8080/",
          "height": 34
        }
      },
      "cell_type": "code",
      "source": [
        "guitar_model_fitted.history.keys()"
      ],
      "execution_count": 0,
      "outputs": [
        {
          "output_type": "execute_result",
          "data": {
            "text/plain": [
              "dict_keys(['val_loss', 'val_acc', 'loss', 'acc'])"
            ]
          },
          "metadata": {
            "tags": []
          },
          "execution_count": 93
        }
      ]
    },
    {
      "metadata": {
        "id": "rZqU_pFZCZMK",
        "colab_type": "text"
      },
      "cell_type": "markdown",
      "source": [
        ""
      ]
    },
    {
      "metadata": {
        "id": "BOmHPD6KhUNS",
        "colab_type": "text"
      },
      "cell_type": "markdown",
      "source": [
        "###And finlly, a random image is taken in order to see the performance of our model"
      ]
    },
    {
      "metadata": {
        "id": "8GJO9PxVLZRd",
        "colab_type": "text"
      },
      "cell_type": "markdown",
      "source": [
        "### As we can see, if the model see a different image from the ones used to train the model, the image is missclassified."
      ]
    },
    {
      "metadata": {
        "id": "jd3ROBSAhWFR",
        "colab_type": "code",
        "outputId": "e34fa1e7-01cc-42c8-bc36-0ee25a4fc5c8",
        "colab": {
          "base_uri": "https://localhost:8080/",
          "height": 367
        }
      },
      "cell_type": "code",
      "source": [
        "from keras.preprocessing import image\n",
        "\n",
        "test_image = image.load_img('./gdrive/My Drive/guitar_project/black-fire-electro-acoustic-guitar-front-555x832.jpg', target_size = (150, 150,3))\n",
        "#The image is converted to an array in order to work with it.\n",
        "test_image_array = image.img_to_array(test_image)\n",
        "#Another degree is added in order to get 4 degrees.\n",
        "test_image_array = np.expand_dims(test_image_array, axis = 0)\n",
        "#Once the array is fixed, we predict with the model created previously.\n",
        "result = guitar_model.predict(test_image_array)\n",
        "#train_generator.class_indices\n",
        "if result[0] == 1:\n",
        "  prediction = 'guitar'\n",
        "else:\n",
        "  prediction = 'not_guitar'\n",
        "print(prediction)\n",
        "\n",
        "#The image is plotten\n",
        "image=plt.imshow(test_image)\n",
        "# Hide grid lines\n",
        "ax.grid(False)\n",
        "# Hide axes ticks\n",
        "plt.axis('off')\n",
        "plt.show()\n"
      ],
      "execution_count": 0,
      "outputs": [
        {
          "output_type": "stream",
          "text": [
            "not_guitar\n"
          ],
          "name": "stdout"
        },
        {
          "output_type": "display_data",
          "data": {
            "image/png": "[encoded data removed]",
            "text/plain": [
              "<Figure size 576x396 with 1 Axes>"
            ]
          },
          "metadata": {
            "tags": []
          }
        }
      ]
    },
    {
      "metadata": {
        "id": "FGQBSVt_vKGE",
        "colab_type": "text"
      },
      "cell_type": "markdown",
      "source": [
        "\n",
        "\n",
        "#Links for reference\n",
        "https://towardsdatascience.com/building-a-deep-learning-model-using-keras-1548ca149d37\n",
        "\n",
        "https://www.youtube.com/watch?v=YRhxdVk_sIs \n",
        "\n",
        "https://towardsdatascience.com/conv-nets-for-dummies-a-bottom-up-approach-c1b754fb14d6\n"
      ]
    },
    {
      "metadata": {
        "id": "Y0BeSVXXDKWq",
        "colab_type": "text"
      },
      "cell_type": "markdown",
      "source": [
        "# Mirate este link para mellorar a performance do teu modelo:\n",
        "https://blog.slavv.com/37-reasons-why-your-neural-network-is-not-working-4020854bd607"
      ]
    }
  ]
}